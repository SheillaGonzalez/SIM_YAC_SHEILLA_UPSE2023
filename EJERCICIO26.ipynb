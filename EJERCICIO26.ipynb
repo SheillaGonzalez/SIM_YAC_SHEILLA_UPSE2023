{
  "nbformat": 4,
  "nbformat_minor": 0,
  "metadata": {
    "colab": {
      "provenance": [],
      "authorship_tag": "ABX9TyNXYgtYlIC10Nca4Xjl0dxD",
      "include_colab_link": true
    },
    "kernelspec": {
      "name": "python3",
      "display_name": "Python 3"
    },
    "language_info": {
      "name": "python"
    }
  },
  "cells": [
    {
      "cell_type": "markdown",
      "metadata": {
        "id": "view-in-github",
        "colab_type": "text"
      },
      "source": [
        "<a href=\"https://colab.research.google.com/github/SheillaGonzalez/SIM_YAC_SHEILLA_UPSE2023/blob/main/EJERCICIO26.ipynb\" target=\"_parent\"><img src=\"https://colab.research.google.com/assets/colab-badge.svg\" alt=\"Open In Colab\"/></a>"
      ]
    },
    {
      "cell_type": "code",
      "execution_count": 1,
      "metadata": {
        "id": "wW-ufrhMkuby"
      },
      "outputs": [],
      "source": [
        "import numpy  as np\n",
        "import math"
      ]
    },
    {
      "cell_type": "code",
      "source": [
        "#Datos del yacimiento\n",
        "L=30000\n",
        "dx=15000\n",
        "Tiempo=100\n",
        "DT=1\n",
        "K=50 #Permeabilidad MD\n",
        "por=0.5\n",
        "vis=1 # centipoise\n",
        "B=0.7 #Factor volumetrico rb/stb\n",
        "CompTotal=1.2*10**(-6) #ps1-1\n",
        "A=200000#ft^2"
      ],
      "metadata": {
        "id": "xrQPlOilk1AC"
      },
      "execution_count": 2,
      "outputs": []
    },
    {
      "cell_type": "code",
      "source": [
        "Alpha=K/(vis*por*CompTotal)\n",
        "Alpha\n",
        "Eta=(Alpha*DT)/(dx**2)\n",
        "Eta"
      ],
      "metadata": {
        "colab": {
          "base_uri": "https://localhost:8080/"
        },
        "id": "SqIWUZvgk5ES",
        "outputId": "9fbd9f14-5935-4c82-c2d7-4511b9ea6049"
      },
      "execution_count": 3,
      "outputs": [
        {
          "output_type": "execute_result",
          "data": {
            "text/plain": [
              "0.3703703703703704"
            ]
          },
          "metadata": {},
          "execution_count": 3
        }
      ]
    },
    {
      "cell_type": "code",
      "source": [
        "Alpha"
      ],
      "metadata": {
        "colab": {
          "base_uri": "https://localhost:8080/"
        },
        "id": "6wxZseIok8iR",
        "outputId": "7be5bba3-5f9e-4431-fd9b-62c72efb46e9"
      },
      "execution_count": 4,
      "outputs": [
        {
          "output_type": "execute_result",
          "data": {
            "text/plain": [
              "83333333.33333334"
            ]
          },
          "metadata": {},
          "execution_count": 4
        }
      ]
    },
    {
      "cell_type": "code",
      "source": [
        "#Crear matriz que guarda los valores del esquema Explicito\n",
        "Pexplicita=np.zeros((Tiempo//DT,(L//dx)+2))#Al colocar 2 veces el // se obtiene una division exacta\n",
        "Qexplicita=np.zeros((Tiempo//DT,(L//dx)))"
      ],
      "metadata": {
        "id": "Ru0SNvodlAw9"
      },
      "execution_count": 5,
      "outputs": []
    },
    {
      "cell_type": "code",
      "source": [],
      "metadata": {
        "id": "GRg-ffdjlI15"
      },
      "execution_count": null,
      "outputs": []
    },
    {
      "cell_type": "code",
      "source": [
        "#Condiciones iniciales\n",
        "P0=2000 #Presion en el nodo cero\n",
        "Pyac=1000 #Presion en el borde 1\n",
        "Piz=0 #Presion izquierda\n",
        "Pder=0 #Presion derecha\n",
        "N=((L//dx)+2)\n",
        "Pin=np.zeros(N) #Vector inicial creado  de 1 para poder ingresar la presion de yacimiento\n",
        "Pin=np.ones(N)\n",
        "Pres=np.zeros(N) #Vector inicial vacio para colocar los resultados\n",
        "Pin=Pin*Pyac\n",
        "Pin[0]=2*Piz-Pin[1]\n",
        "Pin[1]=P0\n",
        "Pin[len(Pin)-1]=2*Pder-Pin[len(Pin)-2]\n",
        "Pin=Pin\n",
        "Pin"
      ],
      "metadata": {
        "colab": {
          "base_uri": "https://localhost:8080/"
        },
        "id": "k-sI_G5_lJvW",
        "outputId": "42b410fb-3200-4980-b2ea-0922f729f4c0"
      },
      "execution_count": 6,
      "outputs": [
        {
          "output_type": "execute_result",
          "data": {
            "text/plain": [
              "array([-1000.,  2000.,  1000., -1000.])"
            ]
          },
          "metadata": {},
          "execution_count": 6
        }
      ]
    },
    {
      "cell_type": "code",
      "source": [
        "Baccumul=(A*dx*por*CompTotal)/B # volumen acumulado formula\n",
        "Transmisibilidad=(K*A/(vis*B*dx))*6.33*10**-3# formulta de la transmisibilidadad con factor de correccion por las diferentes unidades\n",
        "Bc=np.zeros([N-2,N-2])#vector en cero de el volumen acumulado donde se ingresan los valores de acuerdo a las condiciones\n",
        "Tr=np.zeros([N-2,N-2])#vector en cero de el volumen acumulado donde se ingresan los valores de transmisiblidad de acuerdo a las condiciones\n",
        "Bc"
      ],
      "metadata": {
        "colab": {
          "base_uri": "https://localhost:8080/"
        },
        "id": "sRbFBjVKlOot",
        "outputId": "d7e43458-6b1a-41f2-c918-0e30302d3c4a"
      },
      "execution_count": 7,
      "outputs": [
        {
          "output_type": "execute_result",
          "data": {
            "text/plain": [
              "array([[0., 0.],\n",
              "       [0., 0.]])"
            ]
          },
          "metadata": {},
          "execution_count": 7
        }
      ]
    },
    {
      "cell_type": "code",
      "source": [
        "Tr"
      ],
      "metadata": {
        "colab": {
          "base_uri": "https://localhost:8080/"
        },
        "id": "ihNnZ9JtlTBO",
        "outputId": "816c2004-c39e-4695-86b9-3baddcbbe83c"
      },
      "execution_count": 8,
      "outputs": [
        {
          "output_type": "execute_result",
          "data": {
            "text/plain": [
              "array([[0., 0.],\n",
              "       [0., 0.]])"
            ]
          },
          "metadata": {},
          "execution_count": 8
        }
      ]
    },
    {
      "cell_type": "code",
      "source": [
        "#Caracteristicas de la matriz de Volumen acumulado\n",
        "for i in range(0,N-2):\n",
        "  Bc[i,i]= Baccumul#Solo cuando i=i va a tener el mismo valor que el volumenacumulado\n",
        " #Caracteristicas de la matriz de la transmisibilidad\n",
        "for i in range(0,N-2):\n",
        "  Tr[i,i]=2*Transmisibilidad#Solo cuando i=i va a tener el valor del doble de transmisibilidad\n",
        "  if i>0: #siempre y cuando i se encuentre en la posicion mayor a 0\n",
        "    Tr[i,i-1]=-Transmisibilidad#Los valores de la derecha cuando i=i van a ser la transmisibilidad negativa\n",
        "  if i<(N-3): #siempre y cuando i se encuentre en la posicion mayor a N-3\n",
        "    Tr[i,i+1]=-Transmisibilidad  #Los valores de la izquierda cuando i=i van a ser la transmisibilidad negativa\n",
        "Tr[0,0]=(1+2*Eta)*Transmisibilidad # Cuando se encuentren en la posicion 0,0\n",
        "Tr[N-3,N-3]=(1+2*Eta)*Transmisibilidad # Cuando se encuentren en la posicion N-3,N-3\n",
        "Tr=Tr\n",
        "Bc"
      ],
      "metadata": {
        "colab": {
          "base_uri": "https://localhost:8080/"
        },
        "id": "zRZk5A-LlZi8",
        "outputId": "e3eb42c4-f544-400e-d350-9f189a02bbe4"
      },
      "execution_count": 9,
      "outputs": [
        {
          "output_type": "execute_result",
          "data": {
            "text/plain": [
              "array([[2571.42857143,    0.        ],\n",
              "       [   0.        , 2571.42857143]])"
            ]
          },
          "metadata": {},
          "execution_count": 9
        }
      ]
    },
    {
      "cell_type": "code",
      "source": [
        "#Respecto a la presion\n",
        "Matriz_resolucion=np.zeros_like(Tr) # se crea matriz del tamaño del T\n",
        "Vector_sol=np.zeros_like(Pin[1:-1])# Se indica donde empieza y hasta donde termina la matriz en ceros\n",
        "Vector_sol=np.matmul(Tr,Pin[1:-1])\n",
        "#Respecto al caudal\n",
        "Q=np.zeros_like(Vector_sol)# se crea matriz del tamaño del Vector_sol\n",
        "Q[0]=2*Eta*Transmisibilidad*Piz # se coloca la condicion cuando Q se encuentre en el nodo cero\n",
        "Matriz_resolucion=Q-Vector_sol\n",
        "Matriz_resolucion=np.matmul(Bc*DT,Matriz_resolucion)\n",
        "Pcal= (Pin[1:-1]+ Matriz_resolucion) #Aplicacion de una parte de la ecuacion del esquema implicito"
      ],
      "metadata": {
        "id": "eeC_rDrmllhx"
      },
      "execution_count": 10,
      "outputs": []
    },
    {
      "cell_type": "code",
      "source": [
        "Q"
      ],
      "metadata": {
        "colab": {
          "base_uri": "https://localhost:8080/"
        },
        "id": "9dIJMNARlnvI",
        "outputId": "ad399529-e18c-463c-a66d-a9b2fcced62f"
      },
      "execution_count": 11,
      "outputs": [
        {
          "output_type": "execute_result",
          "data": {
            "text/plain": [
              "array([0., 0.])"
            ]
          },
          "metadata": {},
          "execution_count": 11
        }
      ]
    },
    {
      "cell_type": "code",
      "source": [
        "Qexplicita[0]=Q\n",
        "t=DT\n",
        "while t<Tiempo:\n",
        "  Pcal= (Pin[1:-1]+ Matriz_resolucion)\n",
        "  Pres=np.concatenate(([Piz],Pcal,[Pder]))\n",
        "  Pexplicita[t//DT]=Pres\n",
        "  Vector_sol=np.matmul(-Tr,Pcal)+Q\n",
        "  Vector_sol=np.matmul(Bc*DT,Vector_sol)\n",
        "  Qexplicita[t//DT]=Vector_sol\n",
        "  t=t+DT\n"
      ],
      "metadata": {
        "id": "9rDhMphRlxay"
      },
      "execution_count": 21,
      "outputs": []
    },
    {
      "cell_type": "code",
      "source": [
        "import matplotlib.pyplot as plt\n",
        "imgplot = plt.imshow(Pexplicita,aspect='auto')\n",
        "plt.colorbar()"
      ],
      "metadata": {
        "colab": {
          "base_uri": "https://localhost:8080/",
          "height": 462
        },
        "id": "05yjrC5Ol3o7",
        "outputId": "e9042d10-038c-4322-da86-514aa545f6b1"
      },
      "execution_count": 22,
      "outputs": [
        {
          "output_type": "execute_result",
          "data": {
            "text/plain": [
              "<matplotlib.colorbar.Colorbar at 0x7f7fcd8e8970>"
            ]
          },
          "metadata": {},
          "execution_count": 22
        },
        {
          "output_type": "display_data",
          "data": {
            "text/plain": [
              "<Figure size 640x480 with 2 Axes>"
            ],
            "image/png": "[encoded data removed]"
          },
          "metadata": {}
        }
      ]
    },
    {
      "cell_type": "code",
      "source": [
        "import matplotlib.pyplot as plt\n",
        "imgplot = plt.imshow(Qexplicita,aspect='auto')\n",
        "plt.colorbar()"
      ],
      "metadata": {
        "colab": {
          "base_uri": "https://localhost:8080/",
          "height": 462
        },
        "id": "FRjon3CUqQr2",
        "outputId": "e5900821-6d3e-41cd-dc32-1d87f177560c"
      },
      "execution_count": 23,
      "outputs": [
        {
          "output_type": "execute_result",
          "data": {
            "text/plain": [
              "<matplotlib.colorbar.Colorbar at 0x7f7fcd2fffa0>"
            ]
          },
          "metadata": {},
          "execution_count": 23
        },
        {
          "output_type": "display_data",
          "data": {
            "text/plain": [
              "<Figure size 640x480 with 2 Axes>"
            ],
            "image/png": "[encoded data removed]"
          },
          "metadata": {}
        }
      ]
    },
    {
      "cell_type": "code",
      "source": [],
      "metadata": {
        "id": "XIXuVW1NqSkw"
      },
      "execution_count": null,
      "outputs": []
    }
  ]
}